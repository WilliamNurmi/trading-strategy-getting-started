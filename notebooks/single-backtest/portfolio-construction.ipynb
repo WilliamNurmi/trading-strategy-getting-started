{
 "cells": [
  {
   "cell_type": "markdown",
   "metadata": {
    "collapsed": false
   },
   "source": [
    "# Portfolio construction example\n",
    "\n",
    "- Trade several spot DEX tokens\n",
    "    - We use a predefined set of tokens for Polygon\n",
    "    - You could e.g. load this list from a CSV file\n",
    "- Create a portfolio of tokens based on their momentum\n",
    "    - [See the full blog post about what's portfolio construction](https://tradingstrategy.ai/blog/writing-portfolio-construction-strategy-in-python)\n",
    "    - We use daily RSI as the alpha signal for the portfolio construction\n",
    "    - This strategy does not try to be meaningful, but just sets up a skeleton for a portfolio construction strategy\n",
    "    - You can figure out how to plug in your own signals\n",
    "- This backtest does not consider liquidity or price impact \n",
    "    - Adding tokens with non-tradeable liquidity is likely to break the backtest"
   ]
  },
  {
   "cell_type": "markdown",
   "metadata": {
    "collapsed": false
   },
   "source": [
    "# Set up\n",
    "\n",
    "Set up Trading Strategy data client.\n"
   ]
  },
  {
   "cell_type": "code",
   "execution_count": null,
   "metadata": {
    "ExecuteTime": {
     "end_time": "2024-05-01T08:22:33.512415Z",
     "start_time": "2024-05-01T08:22:30.420843Z"
    },
    "collapsed": false
   },
   "outputs": [],
   "source": [
    "from tradeexecutor.utils.notebook import setup_charting_and_output\n",
    "from tradingstrategy.client import Client\n",
    "from tradeexecutor.utils.notebook import setup_charting_and_output, OutputMode\n",
    "\n",
    "client = Client.create_jupyter_client()\n",
    "\n",
    "# Set up drawing charts in interactive vector output mode.\n",
    "# This is slower. See the alternative commented option below.\n",
    "# Kernel restart needed if you change output mode.\n",
    "# setup_charting_and_output(OutputMode.interactive)\n",
    "\n",
    "# Set up rendering static PNG images.\n",
    "# This is much faster but disables zoom on any chart.\n",
    "setup_charting_and_output(OutputMode.static, image_format=\"png\", width=1500, height=1000)\n"
   ]
  },
  {
   "cell_type": "markdown",
   "metadata": {
    "collapsed": false
   },
   "source": [
    "# Parameters\n",
    "\n",
    "- Strategy parameters define the fixed and grid searched parameters"
   ]
  },
  {
   "cell_type": "code",
   "execution_count": null,
   "metadata": {
    "ExecuteTime": {
     "end_time": "2024-05-01T08:22:34.295698Z",
     "start_time": "2024-05-01T08:22:33.562860Z"
    },
    "collapsed": false
   },
   "outputs": [],
   "source": [
    "from tradingstrategy.chain import ChainId\n",
    "import datetime\n",
    "\n",
    "from tradeexecutor.strategy.default_routing_options import TradeRouting\n",
    "from tradingstrategy.timebucket import TimeBucket\n",
    "from tradeexecutor.strategy.cycle import CycleDuration\n",
    "from tradeexecutor.strategy.parameters import StrategyParameters\n",
    "\n",
    "\n",
    "class Parameters:\n",
    "    \"\"\"Parameteres for this strategy.\n",
    "\n",
    "    - Collect parameters used for this strategy here\n",
    "\n",
    "    - Both live trading and backtesting parameters\n",
    "    \"\"\"\n",
    "\n",
    "    id = \"portfolio-construction\" # Used in cache paths\n",
    "\n",
    "    cycle_duration = CycleDuration.d1  # Daily rebalance\n",
    "    candle_time_bucket = TimeBucket.d1  \n",
    "    allocation = 0.98   \n",
    "    \n",
    "    max_assets = 4  # How many assets hold in portfolio once\n",
    "    rsi_length = 7   # Use 7 days RSI as the alpha signal for a trading pair\n",
    "    minimum_rebalance_trade_percent = 0.25  # Portfolio must change at least 1/4 before we start doing rebalance trades\n",
    "\n",
    "    #\n",
    "    # Live trading only\n",
    "    #\n",
    "    chain_id = ChainId.polygon\n",
    "    routing = TradeRouting.default  # Pick default routes for trade execution\n",
    "    required_history_period = datetime.timedelta(days=rsi_length + 1)\n",
    "\n",
    "    #\n",
    "    # Backtesting only\n",
    "    #\n",
    "    backtest_start = datetime.datetime(2023, 1, 1)\n",
    "    backtest_end = datetime.datetime(2024, 1, 1)\n",
    "    initial_cash = 10_000\n",
    "\n",
    "\n",
    "parameters = StrategyParameters.from_class(Parameters)  # Convert to AttributedDict to easier typing with dot notation\n"
   ]
  },
  {
   "cell_type": "markdown",
   "metadata": {
    "collapsed": false
   },
   "source": [
    "# Trading pairs and market data\n",
    "\n",
    "- Get a list of ERC-20 tokens we are going to trade on Polygon\n",
    "- Trading pairs are automatically mapped to the best volume /USDC or /WMATIC pair\n",
    "    - Limited to current market information - no historical volume/liquidity analyses performed here\n",
    "- This data loading method caps out at 75 trading pairs"
   ]
  },
  {
   "cell_type": "code",
   "execution_count": null,
   "metadata": {
    "ExecuteTime": {
     "end_time": "2024-05-01T08:22:39.537861Z",
     "start_time": "2024-05-01T08:22:34.298885Z"
    },
    "collapsed": false
   },
   "outputs": [],
   "source": [
    "from tradingstrategy.client import Client\n",
    "\n",
    "from tradeexecutor.strategy.trading_strategy_universe import TradingStrategyUniverse, load_partial_data\n",
    "from tradeexecutor.strategy.execution_context import ExecutionContext, notebook_execution_context\n",
    "from tradeexecutor.utils.binance import create_binance_universe\n",
    "from tradeexecutor.strategy.universe_model import UniverseOptions\n",
    "from tradeexecutor.strategy.pandas_trader.token_mapper import TokenTuple, create_trading_universe_for_tokens\n",
    "\n",
    "# I have no idea what tokens these are,\n",
    "# but they are on Polygon and trade spot DEXes there.\n",
    "# The last token 0x0d500b1d8e8ef31e21c99d1db9a6444d3adf1270 is WMATIC and we use WMATIC/USDC as the portfolio benchmark index.\n",
    "# Most of these assets are badly broken e.g. only appear for one day, \n",
    "# or otherwise bad data.\n",
    "POLYGON_ERC20_ADDRESS_LIST = \"\"\"\n",
    "0xc2132d05d31c914a87c6611c10748aeb04b58e8f\n",
    "0xf28164a485b0b2c90639e47b0f377b4a438a16b1\n",
    "0xe04830e66539867df44fa95094e90a2006681bb6\n",
    "0x9aba994219c08440a52dea5e43ff51f339aff2bc\n",
    "0xaac532deb0878e94f3fde500996a0d32be4ffdc5\n",
    "0x0b6afe834dab840335f87d99b45c2a4bd81a93c7\n",
    "0x04f177fcacf6fb4d2f95d41d7d3fee8e565ca1d0\n",
    "0xb2c63830d4478cb331142fac075a39671a5541dc\n",
    "0x6002410dda2fb88b4d0dc3c1d562f7761191ea80\n",
    "0x431cd3c9ac9fc73644bf68bf5691f4b83f9e104f\n",
    "0x9c891326fd8b1a713974f73bb604677e1e63396d\n",
    "0x2760e46d9bb43dafcbecaad1f64b93207f9f0ed7\n",
    "0x5ec03c1f7fa7ff05ec476d19e34a22eddb48acdc\n",
    "0xb7486718ea21c79bbd894126f79f504fd3625f68\n",
    "0x8a16d4bf8a0a716017e8d2262c4ac32927797a2f\n",
    "0x483dd3425278c1f79f377f1034d9d2cae55648b6\n",
    "0x58d70ef99a1d22e1a8f8f0e8f27c1babcf8464f3\n",
    "0xb58458c52b6511dc723d7d6f3be8c36d7383b4a8\n",
    "0x91b2745d7aca9d64560cd1693b6ff96678ffc433\n",
    "0x0d500b1d8e8ef31e21c99d1db9a6444d3adf1270\n",
    "\"\"\"\n",
    "\n",
    "\n",
    "def create_trading_universe(\n",
    "    timestamp: datetime.datetime,\n",
    "    client: Client,\n",
    "    execution_context: ExecutionContext,\n",
    "    universe_options: UniverseOptions,\n",
    ") -> TradingStrategyUniverse:\n",
    "    \"\"\"Create the trading universe.\"\"\"\n",
    "\n",
    "    # Build a list of unique tokens\n",
    "    polygon_token_list = {TokenTuple(ChainId.polygon, address) for address in POLYGON_ERC20_ADDRESS_LIST.strip().split()}\n",
    "\n",
    "    strategy_universe = create_trading_universe_for_tokens(\n",
    "        client,\n",
    "        execution_context,\n",
    "        universe_options,\n",
    "        Parameters.candle_time_bucket,\n",
    "        polygon_token_list,\n",
    "        reserve_token=\"0x2791bca1f2de4661ed88a30c99a7a9449aa84174\",  # USDC.e bridged on Polygon\n",
    "        intermediate_token=\"0x0d500b1d8e8ef31e21c99d1db9a6444d3adf1270\",  # WMATIC on Polygon\n",
    "    )\n",
    "    return strategy_universe\n",
    "\n",
    "\n",
    "strategy_universe = create_trading_universe(\n",
    "    None,\n",
    "    client,\n",
    "    notebook_execution_context,\n",
    "    UniverseOptions.from_strategy_parameters_class(Parameters, notebook_execution_context)\n",
    ")\n",
    "\n",
    "broken_trading_pairs = set()\n",
    "\n",
    "#\n",
    "# Extra sanity checks\n",
    "# \n",
    "# Ru some extra sanity check for small cap tokens\n",
    "#\n",
    "\n",
    "print(\"Checking trading pair quality\")\n",
    "print(\"-\" * 80)\n",
    "\n",
    "for pair in strategy_universe.iterate_pairs():\n",
    "    reason = strategy_universe.get_trading_broken_reason(pair, min_candles_required=Parameters.rsi_length)\n",
    "    if reason:\n",
    "        print(f\"FAIL: {pair} with base token {pair.base.address} may be problematic: {reason}\")\n",
    "        broken_trading_pairs.add(pair)\n",
    "    else:\n",
    "        print(f\"OK: {pair} included in the backtest\")\n",
    "\n",
    "print(f\"Total {len(broken_trading_pairs)} broken trading pairs detected\")\n"
   ]
  },
  {
   "cell_type": "markdown",
   "metadata": {
    "collapsed": false
   },
   "source": [
    "# Indicators\n",
    "\n",
    "- We use `pandas_ta` Python package to calculate technical indicators\n",
    "- These indicators are precalculated and cached on the disk"
   ]
  },
  {
   "cell_type": "code",
   "execution_count": null,
   "metadata": {
    "ExecuteTime": {
     "end_time": "2024-05-01T08:22:39.664437Z",
     "start_time": "2024-05-01T08:22:39.539905Z"
    },
    "collapsed": false
   },
   "outputs": [],
   "source": [
    "import pandas as pd\n",
    "import pandas_ta\n",
    "\n",
    "from tradeexecutor.analysis.regime import Regime\n",
    "from tradeexecutor.strategy.execution_context import ExecutionContext\n",
    "from tradeexecutor.strategy.pandas_trader.indicator import IndicatorSet, IndicatorSource\n",
    "from tradeexecutor.strategy.parameters import StrategyParameters\n",
    "from tradeexecutor.strategy.trading_strategy_universe import TradingStrategyUniverse\n",
    "from tradingstrategy.utils.groupeduniverse import resample_candles\n",
    "\n",
    "\n",
    "def rsi_safe(close_series: pd.Series, length: int):\n",
    "    # Work around tokens that appear only for few hours*\n",
    "    if len(close_series) > length:\n",
    "        return pandas_ta.rsi(close_series, length)\n",
    "    else:\n",
    "        # The token did not trade long enough we could have ever calculated RSI\n",
    "        return pd.Series(dtype=\"float64\", index=pd.DatetimeIndex([]))\n",
    "\n",
    "\n",
    "def create_indicators(\n",
    "    timestamp: datetime.datetime | None,\n",
    "    parameters: StrategyParameters,\n",
    "    strategy_universe: TradingStrategyUniverse,\n",
    "    execution_context: ExecutionContext\n",
    "):\n",
    "    indicators = IndicatorSet()\n",
    "\n",
    "    indicators.add(\n",
    "        \"rsi\",\n",
    "        rsi_safe,\n",
    "        {\"length\": parameters.rsi_length},\n",
    "        IndicatorSource.close_price,\n",
    "    )        \n",
    "    return indicators\n"
   ]
  },
  {
   "cell_type": "markdown",
   "metadata": {
    "collapsed": false
   },
   "source": [
    "# Trading algorithm\n",
    "\n",
    "- Describe out trading strategy as code"
   ]
  },
  {
   "cell_type": "code",
   "execution_count": null,
   "metadata": {
    "ExecuteTime": {
     "end_time": "2024-05-01T08:22:40.369617Z",
     "start_time": "2024-05-01T08:22:39.665542Z"
    },
    "collapsed": false
   },
   "outputs": [],
   "source": [
    "from tradeexecutor.state.visualisation import PlotKind\n",
    "from tradeexecutor.state.trade import TradeExecution\n",
    "from tradeexecutor.strategy.pandas_trader.strategy_input import StrategyInput\n",
    "from tradeexecutor.strategy.weighting import weight_by_1_slash_n\n",
    "from tradeexecutor.strategy.alpha_model import AlphaModel\n",
    "from tradeexecutor.strategy.pandas_trader.strategy_input import IndicatorDataNotFoundWithinDataTolerance\n",
    "\n",
    "\n",
    "def decide_trades(\n",
    "    input: StrategyInput,\n",
    ") -> list[TradeExecution]:\n",
    "\n",
    "    # \n",
    "    # Decision cycle setup.\n",
    "    # Read all variables we are going to use for the decisions.\n",
    "    #\n",
    "    parameters = input.parameters\n",
    "    position_manager = input.get_position_manager()\n",
    "    state = input.state\n",
    "    timestamp = input.timestamp\n",
    "    indicators = input.indicators\n",
    "    strategy_universe = input.strategy_universe\n",
    "\n",
    "    cash = position_manager.get_current_cash()\n",
    "\n",
    "    # Another low cap problem checker.\n",
    "    # Doing a bad non-liquidity trade may break the valuation calculations.\n",
    "    total_equity = state.portfolio.get_total_equity()\n",
    "    if total_equity > 1_000_000:\n",
    "        position_valuations = \"\\n\".join([f\"{p} (token {p.pair.base.address}): {p.get_value()}\" for p in state.portfolio.open_positions.values()])\n",
    "        raise RuntimeError(f\"Portfolio total equity exceeded 1,000,000 USD. Some broken math likely happened. Total equity is {total_equity} USD.\\nOpen positions:\\n{position_valuations}\")\n",
    "        \n",
    "    #\n",
    "    # Trading logic\n",
    "    #\n",
    "    # We do some extra checks here as we are trading low quality\n",
    "    # low cap tokens which often have outright malicious data for trading.\n",
    "    #\n",
    "\n",
    "    alpha_model = AlphaModel(timestamp)\n",
    "\n",
    "    trades = []\n",
    "    for pair in strategy_universe.iterate_pairs():\n",
    "\n",
    "        if pair in broken_trading_pairs:\n",
    "            # Don't even bother to try trade this\n",
    "            continue\n",
    "\n",
    "        # Check last close price\n",
    "        price = indicators.get_price(pair=pair)\n",
    "        if (price is None) or (price < 0.000001):\n",
    "            # This pair has its price range moved to buggy floating point range,\n",
    "            # avoid            \n",
    "            continue\n",
    "\n",
    "        position_manager.log(f\"Pricing check. Pair {pair}, price {price}\")\n",
    "\n",
    "        try:        \n",
    "            rsi = indicators.get_indicator_value(\"rsi\", pair=pair)        \n",
    "        except IndicatorDataNotFoundWithinDataTolerance:\n",
    "            # Data not yet availble, too spotty\n",
    "            rsi = None\n",
    "\n",
    "        # Does the trading pair have good RSI in this point of history?\n",
    "        if rsi is not None:  \n",
    "            # Interpret RSI above +50 as a positive momentum        \n",
    "            signal = rsi - 50\n",
    "            if signal > 0:\n",
    "                # Consider positive signals only, because we cannot short\n",
    "                alpha_model.set_signal(pair, signal)\n",
    "\n",
    "    # Use alpha model and construct a portfolio of four top assets\n",
    "    alpha_model.select_top_signals(parameters.max_assets)\n",
    "    alpha_model.assign_weights(weight_by_1_slash_n)\n",
    "    alpha_model.normalise_weights()\n",
    "    alpha_model.update_old_weights(state.portfolio)\n",
    "    portfolio = position_manager.get_current_portfolio()\n",
    "    portfolio_target_value = portfolio.get_total_equity() * parameters.allocation\n",
    "    alpha_model.calculate_target_positions(position_manager, portfolio_target_value)\n",
    "    trades = alpha_model.generate_rebalance_trades_and_triggers(\n",
    "        position_manager,\n",
    "        min_trade_threshold=parameters.minimum_rebalance_trade_percent * portfolio.get_total_equity(),\n",
    "    )\n",
    "\n",
    "    # Visualisations\n",
    "    #\n",
    "    if input.is_visualisation_enabled():\n",
    "        visualisation = state.visualisation\n",
    "        state.visualisation.add_calculations(timestamp, alpha_model.to_dict())  # Record alpha model thinking\n",
    "\n",
    "    return trades  # Return the list of trades we made in this cycle"
   ]
  },
  {
   "cell_type": "markdown",
   "metadata": {
    "collapsed": false
   },
   "source": [
    "# Backtest\n",
    "\n",
    "- Run the backtest"
   ]
  },
  {
   "cell_type": "code",
   "execution_count": null,
   "metadata": {
    "ExecuteTime": {
     "start_time": "2024-05-01T08:22:40.369311Z"
    },
    "collapsed": false
   },
   "outputs": [],
   "source": [
    "import logging\n",
    "from tradeexecutor.backtest.backtest_runner import run_backtest_inline\n",
    "\n",
    "result = run_backtest_inline(\n",
    "    name=parameters.id,\n",
    "    engine_version=\"0.5\",\n",
    "    decide_trades=decide_trades,\n",
    "    create_indicators=create_indicators,\n",
    "    client=client,\n",
    "    universe=strategy_universe,\n",
    "    parameters=parameters,\n",
    "    strategy_logging=False,\n",
    "    max_workers=1,\n",
    "    # We need to set this really high value, because\n",
    "    # some low cap tokens may only see 1-2 trades per year\n",
    "    # and our backtesting framework aborts if it thinks\n",
    "    # there is an issue with data quality\n",
    "    data_delay_tolerance=pd.Timedelta(days=365),\n",
    "    \n",
    "    # Uncomment to enable verbose logging\n",
    "    # log_level=logging.INFO,\n",
    ")\n",
    "\n",
    "state = result.state\n",
    "\n",
    "trade_count = len(list(state.portfolio.get_all_trades()))\n",
    "print(f\"Backtesting completed, backtested strategy made {trade_count} trades\")"
   ]
  },
  {
   "cell_type": "markdown",
   "metadata": {
    "collapsed": false
   },
   "source": [
    "# Equity curve\n",
    "\n",
    "- Equity curve shows how your strategy accrues value over time\n",
    "- A good equity curve has a stable ascending angle\n",
    "- Benchmark against MATIC buy and hold"
   ]
  },
  {
   "cell_type": "code",
   "execution_count": null,
   "metadata": {
    "collapsed": false
   },
   "outputs": [],
   "source": [
    "import pandas as pd\n",
    "from tradeexecutor.analysis.multi_asset_benchmark import get_benchmark_data\n",
    "from tradeexecutor.visual.benchmark import visualise_equity_curve_benchmark\n",
    "\n",
    "# Pulls WMATIC/USDC as the benchmark\n",
    "benchmark_indexes = get_benchmark_data(\n",
    "    strategy_universe,\n",
    "    cumulative_with_initial_cash=state.portfolio.get_initial_cash()\n",
    ")\n",
    "\n",
    "fig = visualise_equity_curve_benchmark(\n",
    "    name=state.name,\n",
    "    portfolio_statistics=state.stats.portfolio,\n",
    "    all_cash=state.portfolio.get_initial_cash(),\n",
    "    benchmark_indexes=benchmark_indexes,\n",
    "    height=800,\n",
    "    log_y=True,\n",
    ")\n",
    "\n",
    "fig.show()"
   ]
  },
  {
   "cell_type": "markdown",
   "metadata": {
    "collapsed": false
   },
   "source": [
    "# Performance metrics\n",
    "\n",
    "- Display portfolio performance metrics\n",
    "- Compare against buy and hold matic using the same initial capital"
   ]
  },
  {
   "cell_type": "code",
   "execution_count": null,
   "metadata": {
    "collapsed": false
   },
   "outputs": [],
   "source": [
    "from tradeexecutor.analysis.multi_asset_benchmark import compare_strategy_backtest_to_multiple_assets\n",
    "\n",
    "compare_strategy_backtest_to_multiple_assets(\n",
    "    state,\n",
    "    strategy_universe,\n",
    "    display=True,\n",
    ")"
   ]
  },
  {
   "cell_type": "markdown",
   "metadata": {
    "collapsed": false
   },
   "source": [
    "# Trading statistics\n",
    "\n",
    "- Display summare about made trades"
   ]
  },
  {
   "cell_type": "code",
   "execution_count": null,
   "metadata": {
    "collapsed": false
   },
   "outputs": [],
   "source": [
    "from tradeexecutor.analysis.trade_analyser import build_trade_analysis\n",
    "\n",
    "analysis = build_trade_analysis(state.portfolio)\n",
    "summary = analysis.calculate_summary_statistics()\n",
    "display(summary.to_dataframe())"
   ]
  },
  {
   "cell_type": "markdown",
   "metadata": {},
   "source": [
    "# Alpha model thinking\n",
    "\n",
    "- Show the portfolio construction steps for each decision cycle\n",
    "- Render a table where we show what was the signal for each asset and how much it was bought or sod"
   ]
  },
  {
   "cell_type": "code",
   "execution_count": null,
   "metadata": {
    "collapsed": false
   },
   "outputs": [],
   "source": [
    "from IPython.display import HTML\n",
    "\n",
    "from tradeexecutor.analysis.alpha_model_analyser import render_alpha_model_plotly_table, create_alpha_model_timeline_all_assets\n",
    "\n",
    "# Render alpha model timeline as Pandas HTML table\n",
    "timeline = create_alpha_model_timeline_all_assets(state, strategy_universe, new_line=\"CcC\")\n",
    "HTML(timeline.to_html().replace(\"CcC\", \"<br>\"))\n",
    "\n",
    "\n",
    "# Alternative Plotly renderer,\n",
    "# does not work in notebook HTML export but has richer output\n",
    "#figure, table = render_alpha_model_plotly_table(timeline)"
   ]
  }
 ],
 "metadata": {
  "kernelspec": {
   "display_name": "Python 3",
   "language": "python",
   "name": "python3"
  },
  "language_info": {
   "codemirror_mode": {
    "name": "ipython",
    "version": 3
   },
   "file_extension": ".py",
   "mimetype": "text/x-python",
   "name": "python",
   "nbconvert_exporter": "python",
   "pygments_lexer": "ipython3",
   "version": "3.11.5"
  }
 },
 "nbformat": 4,
 "nbformat_minor": 0
}
