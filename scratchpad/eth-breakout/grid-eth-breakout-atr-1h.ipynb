{
 "cells": [
  {
   "attachments": {},
   "cell_type": "markdown",
   "metadata": {
    "datalore": {
     "hide_input_from_viewers": false,
     "hide_output_from_viewers": false,
     "node_id": "panDlc8PLIp2vAeYv33D8v",
     "report_properties": {
      "rowId": "npZfngBFkbIhSxvNeadJZI"
     },
     "type": "MD"
    }
   },
   "source": [
    "# Multipair ATR indicator breakout grid search example\n",
    "\n",
    "- Based on `multipair-breakout-atr-slow` individual backtest\n",
    "- Does grid search over the strategy parameters\n",
    "  - See `Parameters` class\n",
    "  - Instead of passing individual parameters we are passing list of options\n",
    "- Grid search is a lot of CPU work: Running this notebooks depends on how many CPUs your computer has available.\n",
    "  - Running grid search is not suitable for free Github Codespaces instances.\n",
    "  - Running this grid search will take **several hours** on 32 CPU core machine\n",
    "  - Limit the number of parameters for a faster grid search\n",
    "- Grid search output is different\n",
    "  - Instead of showing individual results, we show multiple results with summaries of CAGR, max drawdown, Sharpe and such in a table\n",
    "  - We can sbow all grid search results, but rendering long tables is often slow and hard to read\n",
    "  - We have functions to sort out and pick the best results by a parameter (usually CAGR, Sharpe)\n",
    "  - We will also visualise the equity curve of the best result\n",
    "\n",
    "We explore two candidates\n",
    "- One optimised for absolute return (CAGR)\n",
    "- One optimised for risk-adjusted return (Sharpe)\n",
    "- You can see that the equity curve differs greatly based on which aspect you are optimising for (more severe breakouts only, less time in market)\n",
    "\n",
    "**Note**: Table scrollbars and color coding missing when viewed on Github."
   ]
  },
  {
   "attachments": {},
   "cell_type": "markdown",
   "metadata": {
    "datalore": {
     "hide_input_from_viewers": false,
     "hide_output_from_viewers": false,
     "node_id": "H3G8lwcUMn3QLXcgvhP8h3",
     "report_properties": {
      "rowId": "GhBdJR6iUxIZhDlvvRsN18"
     },
     "type": "MD"
    }
   },
   "source": [
    "# Set up\n",
    "\n",
    "Set up Trading Strategy data client."
   ]
  },
  {
   "cell_type": "code",
   "execution_count": null,
   "metadata": {
    "datalore": {
     "hide_input_from_viewers": false,
     "hide_output_from_viewers": false,
     "node_id": "GltDL2UHt3axP6z6g6R5pj",
     "report_properties": {
      "rowId": "V2T5Idfo0Tk9aisRtF7Af2"
     },
     "type": "CODE"
    }
   },
   "outputs": [],
   "source": [
    "from tradeexecutor.utils.notebook import setup_charting_and_output\n",
    "from tradingstrategy.client import Client\n",
    "from tradeexecutor.utils.notebook import setup_charting_and_output, OutputMode\n",
    "\n",
    "client = Client.create_jupyter_client()\n",
    "\n",
    "# Set up drawing charts in interactive vector output mode.\n",
    "# This is slower. See the alternative commented option below.\n",
    "# setup_charting_and_output(OutputMode.interactive)\n",
    "\n",
    "# Set up rendering static PNG images.\n",
    "# This is much faster but disables zoom on any chart.\n",
    "setup_charting_and_output(OutputMode.static, image_format=\"png\", width=1500, height=1000)"
   ]
  },
  {
   "attachments": {},
   "cell_type": "markdown",
   "metadata": {
    "datalore": {
     "hide_input_from_viewers": false,
     "hide_output_from_viewers": false,
     "node_id": "oOT2VS4jGPhAAQy0PVsXzl",
     "report_properties": {
      "rowId": "WItNHQ475UrsetUXMySpKk"
     },
     "type": "MD"
    }
   },
   "source": [
    "# Parameters\n",
    "\n",
    "- Strategy parameters define the fixed and grid searched parameters"
   ]
  },
  {
   "cell_type": "code",
   "execution_count": null,
   "metadata": {
    "datalore": {
     "hide_input_from_viewers": false,
     "hide_output_from_viewers": false,
     "node_id": "Cr5bOuqvH7PynnMMCrHCVX",
     "report_properties": {
      "rowId": "BZCjj9rsbMkOtUNxQABZqM"
     },
     "type": "CODE"
    }
   },
   "outputs": [],
   "source": [
    "from tradingstrategy.chain import ChainId\n",
    "import datetime\n",
    "\n",
    "from tradeexecutor.strategy.default_routing_options import TradeRouting\n",
    "from tradingstrategy.timebucket import TimeBucket\n",
    "from tradeexecutor.strategy.cycle import CycleDuration\n",
    "from tradeexecutor.strategy.parameters import StrategyParameters\n",
    "\n",
    "\n",
    "class Parameters:\n",
    "    \"\"\"Parameteres for this strategy.\n",
    "\n",
    "    - Collect parameters used for this strategy here\n",
    "\n",
    "    - Both live trading and backtesting parameters\n",
    "    \"\"\"\n",
    "\n",
    "    id = \"grid-eth-breakout-atr-1h\" # Used in cache paths\n",
    "\n",
    "    cycle_duration = CycleDuration.cycle_1h  \n",
    "    candle_time_bucket = TimeBucket.h1\n",
    "    allocation = 0.98   \n",
    "\n",
    "    atr_length = [10, 20, 40, 60]   # Bars\n",
    "    fract = [0.75, 1.0, 1.5, 2, 3, 5, 7]  # Fraction between last hourly close and breakout level\n",
    "\n",
    "    adx_length = [14, 25, 40, 60]  # Days\n",
    "    adx_filter_threshold = [15, 25, 35]\n",
    "    \n",
    "    trailing_stop_loss_pct = [0.975, 0.98] \n",
    "    trailing_stop_loss_activation_level = [1.025, 1.05, 1.075]\n",
    "    stop_loss_pct = [0.98, 0.95]\n",
    "\n",
    "    #\n",
    "    # Live trading only\n",
    "    #\n",
    "    chain_id = ChainId.polygon\n",
    "    routing = TradeRouting.default  # Pick default routes for trade execution\n",
    "    required_history_period = datetime.timedelta(hours=200)\n",
    "\n",
    "    #\n",
    "    # Backtesting only\n",
    "    #\n",
    "    backtest_start = datetime.datetime(2022, 1, 1)\n",
    "    backtest_end = datetime.datetime(2024, 5, 1)\n",
    "    stop_loss_time_bucket = TimeBucket.m15\n",
    "    backtest_trading_fee = 0.0005  # Override the default Binance data trading fee and assume we can trade 5 BPS fee on WMATIC-USDC on Polygon on Uniswap v3\n",
    "    initial_cash = 10_000\n",
    "\n",
    "parameters = StrategyParameters.from_class(Parameters, grid_search=True) \n"
   ]
  },
  {
   "attachments": {},
   "cell_type": "markdown",
   "metadata": {
    "datalore": {
     "hide_input_from_viewers": false,
     "hide_output_from_viewers": false,
     "node_id": "Pzshdg0D4wgjCLMAtRXa1R",
     "report_properties": {
      "rowId": "pzu96l849A9iTjPD5LNmsB"
     },
     "type": "MD"
    }
   },
   "source": [
    "# Trading pairs and market data\n",
    "\n",
    "- Set up our trading pairs\n",
    "- Load historical market data for backtesting\n",
    "- We use Binance CEX data so we have longer history to backtest"
   ]
  },
  {
   "cell_type": "code",
   "execution_count": null,
   "metadata": {
    "datalore": {
     "hide_input_from_viewers": false,
     "hide_output_from_viewers": false,
     "node_id": "WcYbF5brciuKTbrEY8PsCN",
     "report_properties": {
      "rowId": "cnpBGMpGdL5upK4ctlIsLa"
     },
     "type": "CODE"
    }
   },
   "outputs": [],
   "source": [
    "from tradeexecutor.strategy.trading_strategy_universe import TradingStrategyUniverse, load_partial_data\n",
    "from tradingstrategy.client import Client\n",
    "from tradeexecutor.strategy.execution_context import ExecutionContext, notebook_execution_context\n",
    "from tradeexecutor.utils.binance import create_binance_universe\n",
    "from tradeexecutor.strategy.universe_model import UniverseOptions\n",
    "\n",
    "# List of trading pairs we use in the backtest\n",
    "# In this backtest, we use Binance data as it has more price history than DEXes\n",
    "trading_pairs = [\n",
    "    (ChainId.centralised_exchange, \"binance\", \"ETH\", \"USDT\"),\n",
    "]\n",
    "\n",
    "def create_trading_universe(\n",
    "    timestamp: datetime.datetime,\n",
    "    client: Client,\n",
    "    execution_context: ExecutionContext,\n",
    "    universe_options: UniverseOptions,\n",
    ") -> TradingStrategyUniverse:\n",
    "    \"\"\"Create the trading universe.\n",
    "\n",
    "    - In this example, we load all Binance spot data based on our Binance trading pair list.\n",
    "    \"\"\"\n",
    "\n",
    "    # Backtesting - load Binance data\n",
    "    strategy_universe = create_binance_universe(\n",
    "        [f\"{p[2]}{p[3]}\" for p in trading_pairs],\n",
    "        candle_time_bucket=Parameters.candle_time_bucket,\n",
    "        stop_loss_time_bucket=Parameters.stop_loss_time_bucket,\n",
    "        start_at=universe_options.start_at,\n",
    "        end_at=universe_options.end_at,\n",
    "        trading_fee_override=Parameters.backtest_trading_fee,\n",
    "        forward_fill=True,\n",
    "    )\n",
    "    return strategy_universe\n",
    "\n",
    "\n",
    "strategy_universe = create_trading_universe(\n",
    "    None,\n",
    "    client,\n",
    "    notebook_execution_context,\n",
    "    UniverseOptions.from_strategy_parameters_class(Parameters, notebook_execution_context)\n",
    ")\n"
   ]
  },
  {
   "attachments": {},
   "cell_type": "markdown",
   "metadata": {
    "datalore": {
     "hide_input_from_viewers": false,
     "hide_output_from_viewers": false,
     "node_id": "e6zBU79advuTIAFp3r0fnS",
     "report_properties": {
      "rowId": "6ikbbnKFBBUDJCVsUzyV9n"
     },
     "type": "MD"
    }
   },
   "source": [
    "# Indicators\n",
    "\n",
    "- We use `pandas_ta` Python package to calculate technical indicators\n",
    "- These indicators are precalculated and cached on the disk\n",
    "- Indicators are calculated to each pair in our trading pair dataset"
   ]
  },
  {
   "cell_type": "code",
   "execution_count": null,
   "metadata": {
    "datalore": {
     "hide_input_from_viewers": false,
     "hide_output_from_viewers": false,
     "node_id": "Ol2f6NAwTJA3Di7TpMaqlq",
     "report_properties": {
      "rowId": "VS64KnzrQlPw3yr2xVCV1c"
     },
     "type": "CODE"
    }
   },
   "outputs": [],
   "source": [
    "import pandas as pd\n",
    "import pandas_ta\n",
    "\n",
    "from tradeexecutor.analysis.regime import Regime\n",
    "from tradeexecutor.strategy.execution_context import ExecutionContext\n",
    "from tradeexecutor.strategy.pandas_trader.indicator import IndicatorSet, IndicatorSource\n",
    "from tradeexecutor.strategy.parameters import StrategyParameters\n",
    "from tradeexecutor.strategy.trading_strategy_universe import TradingStrategyUniverse\n",
    "from tradingstrategy.utils.groupeduniverse import resample_candles\n",
    "\n",
    "\n",
    "def daily_price(open, high, low, close) -> pd.DataFrame:\n",
    "    \"\"\"Resample pricees to daily for ADX filtering.\"\"\"\n",
    "    original_df = pd.DataFrame({\n",
    "        \"open\": open,\n",
    "        \"high\": high,\n",
    "        \"low\": low,\n",
    "        \"close\": close,\n",
    "    })    \n",
    "    daily_df = resample_candles(original_df, pd.Timedelta(days=1))\n",
    "    return daily_df\n",
    "\n",
    "\n",
    "def daily_adx(open, high, low, close, length):\n",
    "    daily_df = daily_price(open, high, low, close)\n",
    "    adx_df = pandas_ta.adx(\n",
    "        close=daily_df.close,\n",
    "        high=daily_df.high,\n",
    "        low=daily_df.low,\n",
    "        length=length,\n",
    "    )\n",
    "    return adx_df\n",
    "\n",
    "\n",
    "def regime(open, high, low, close, length, regime_threshold) -> pd.Series:\n",
    "    \"\"\"A regime filter based on ADX indicator.\n",
    "\n",
    "    Get the trend of BTC applying ADX on a daily frame.\n",
    "    \n",
    "    - -1 is bear\n",
    "    - 0 is sideways\n",
    "    - +1 is bull\n",
    "    \"\"\"\n",
    "    \n",
    "\n",
    "    assert open.index.is_monotonic_increasing\n",
    "    assert high.index.is_monotonic_increasing\n",
    "    assert low.index.is_monotonic_increasing\n",
    "\n",
    "    adx_df = daily_adx(open, high, low, close, length)\n",
    "\n",
    "    def regime_filter(row):\n",
    "        # ADX, DMP, # DMN\n",
    "        average_direction_index, directional_momentum_positive, directional_momentum_negative = row.values\n",
    "        if directional_momentum_positive > regime_threshold:\n",
    "            return Regime.bull.value\n",
    "        elif directional_momentum_negative > regime_threshold:\n",
    "            return Regime.bear.value\n",
    "        else:\n",
    "            return Regime.crab.value\n",
    "\n",
    "    regime_signal = adx_df.apply(regime_filter, axis=\"columns\")    \n",
    "\n",
    "    assert regime_signal.index.is_monotonic_increasing\n",
    "\n",
    "    return regime_signal\n",
    "\n",
    "\n",
    "\n",
    "def create_indicators(\n",
    "    timestamp: datetime.datetime | None,\n",
    "    parameters: StrategyParameters,\n",
    "    strategy_universe: TradingStrategyUniverse,\n",
    "    execution_context: ExecutionContext\n",
    "):\n",
    "    indicators = IndicatorSet()\n",
    "\n",
    "    # https://github.com/twopirllc/pandas-ta/blob/main/pandas_ta/volatility/atr.py\n",
    "    indicators.add(\n",
    "        \"atr\",\n",
    "        pandas_ta.atr,\n",
    "        {\"length\": parameters.atr_length},\n",
    "        IndicatorSource.ohlcv,\n",
    "    )\n",
    "\n",
    "    # ADX https://www.investopedia.com/articles/trading/07/adx-trend-indicator.asp\n",
    "    # https://github.com/twopirllc/pandas-ta/blob/main/pandas_ta/trend/adx.py\n",
    "    indicators.add(\n",
    "        \"adx\",\n",
    "        daily_adx,\n",
    "        {\"length\": parameters.adx_length},\n",
    "        IndicatorSource.ohlcv,\n",
    "    )\n",
    "\n",
    "    # Price OHLC resampled to daily\n",
    "    indicators.add(\n",
    "        \"daily_price\",\n",
    "        daily_price,\n",
    "        {},\n",
    "        IndicatorSource.ohlcv,\n",
    "    )\n",
    "\n",
    "    # A regime filter to detect the trading pair bear/bull markets\n",
    "    indicators.add(\n",
    "        \"regime\",\n",
    "        regime,\n",
    "        {\"length\": parameters.adx_length, \"regime_threshold\": parameters.adx_filter_threshold},\n",
    "        IndicatorSource.ohlcv,\n",
    "    )\n",
    "        \n",
    "    return indicators"
   ]
  },
  {
   "attachments": {},
   "cell_type": "markdown",
   "metadata": {
    "datalore": {
     "hide_input_from_viewers": false,
     "hide_output_from_viewers": false,
     "node_id": "Lf3kq2cXNItTzSbm9MuJOk",
     "report_properties": {
      "rowId": "BAQOouL7P2Hr9AHYBFMN26"
     },
     "type": "MD"
    }
   },
   "source": [
    "# Trading algorithm\n",
    "\n",
    "- Describe out trading strategy as code"
   ]
  },
  {
   "cell_type": "code",
   "execution_count": null,
   "metadata": {
    "datalore": {
     "hide_input_from_viewers": false,
     "hide_output_from_viewers": false,
     "node_id": "3JI3mVfrtr5aFd5RukEvTm",
     "report_properties": {
      "rowId": "hIzpVeTriqUhLmoR7YkfiJ"
     },
     "type": "CODE"
    }
   },
   "outputs": [],
   "source": [
    "import logging\n",
    "from tradeexecutor.state.visualisation import PlotKind\n",
    "from tradeexecutor.state.trade import TradeExecution\n",
    "from tradeexecutor.strategy.pandas_trader.strategy_input import StrategyInput, IndicatorDataNotFoundWithinDataTolerance\n",
    "\n",
    "\n",
    "def decide_trades(\n",
    "    input: StrategyInput,\n",
    ") -> list[TradeExecution]:\n",
    "\n",
    "    # \n",
    "    # Decidion cycle setup.\n",
    "    # Read all variables we are going to use for the decisions.\n",
    "    #\n",
    "    parameters = input.parameters\n",
    "    position_manager = input.get_position_manager()\n",
    "    state = input.state\n",
    "    timestamp = input.timestamp\n",
    "    indicators = input.indicators\n",
    "    strategy_universe = input.strategy_universe\n",
    "    cash = position_manager.get_current_cash()\n",
    "\n",
    "    trades = []\n",
    "\n",
    "    # Enable trailing stop loss after we reach the profit taking level\n",
    "    #\n",
    "    for position in state.portfolio.open_positions.values():\n",
    "        if position.trailing_stop_loss_pct is None:\n",
    "            close_price = indicators.get_price(position.pair)\n",
    "            if close_price >= position.get_opening_price() * parameters.trailing_stop_loss_activation_level:\n",
    "                position.trailing_stop_loss_pct = parameters.trailing_stop_loss_pct                \n",
    "\n",
    "    # Trade each of our pair individually.\n",
    "    #\n",
    "    # If any pair has open position,\n",
    "    # do not try to rebalance, but hold that position to the end.\n",
    "    #\n",
    "    for pair_desc in trading_pairs:\n",
    "        pair = strategy_universe.get_pair_by_human_description(pair_desc)\n",
    "\n",
    "        close_price = indicators.get_price(pair=pair)  # Price the previous 15m candle closed for this decision cycle timestamp\n",
    "        atr = indicators.get_indicator_value(\"atr\", pair=pair)  # The ATR value at the time of close price\n",
    "        last_day = (timestamp - parameters.cycle_duration.to_pandas_timedelta()).floor(freq=\"D\")  # POI (point of interest): Account 15m of lookahead bias whehn using decision cycle timestamp\n",
    "        previous_price = indicators.get_price(timestamp=last_day, pair=pair)  # The price at the start of this hour\n",
    "\n",
    "        regime_val = indicators.get_indicator_value(\"regime\", pair=pair)  # Because the regime filter is calculated only daily, we allow some lookback\n",
    "        regime = Regime(regime_val)  # Convert to enum for readability\n",
    "    \n",
    "        if None in (atr, close_price, previous_price):\n",
    "            # Not enough historic data,\n",
    "            # cannot make decisions yet\n",
    "            return []\n",
    "        \n",
    "        # If regime filter does not have enough data at the start of the backtest,\n",
    "        # default to bull market\n",
    "        if regime is None:\n",
    "            regime = Regime.bull\n",
    "            \n",
    "\n",
    "        # We assume a breakout if our current 15m candle has closed\n",
    "        # above the 1h starting price + (atr * fraction) target level\n",
    "        long_breakout_entry_level = previous_price + atr * parameters.fract\n",
    "\n",
    "        # Check for open condition - is the price breaking out\n",
    "        #\n",
    "        if not position_manager.is_any_open():\n",
    "            if regime == Regime.bull:  \n",
    "                if close_price > long_breakout_entry_level:\n",
    "                    trades += position_manager.open_spot(\n",
    "                        pair,\n",
    "                        value=cash * parameters.allocation,\n",
    "                        stop_loss_pct=parameters.stop_loss_pct,             \n",
    "                    )\n",
    "\n",
    "    # Visualisations\n",
    "    #\n",
    "    if input.is_visualisation_enabled():\n",
    "        visualisation = state.visualisation\n",
    "        # Visualise ATR for BTC        \n",
    "        pair = strategy_universe.get_pair_by_human_description(trading_pairs[0])\n",
    "        visualisation.plot_indicator(\n",
    "            timestamp, \n",
    "            \"ATR\", \n",
    "            PlotKind.technical_indicator_detached, \n",
    "            atr,\n",
    "            pair=pair,\n",
    "        )\n",
    "\n",
    "    return trades  # Return the list of trades we made in this cycle"
   ]
  },
  {
   "attachments": {},
   "cell_type": "markdown",
   "metadata": {
    "datalore": {
     "hide_input_from_viewers": false,
     "hide_output_from_viewers": false,
     "node_id": "VYPNut1hd4dzgiBkNwFKlW",
     "report_properties": {
      "rowId": "npa7iThuHClHekXptxnKy3"
     },
     "type": "MD"
    }
   },
   "source": [
    "# Grid search\n",
    "\n",
    "- Run the grid search"
   ]
  },
  {
   "cell_type": "code",
   "execution_count": null,
   "metadata": {
    "datalore": {
     "hide_input_from_viewers": false,
     "hide_output_from_viewers": false,
     "node_id": "9s2VFpaEPVtspsVw3CvoGF",
     "report_properties": {
      "rowId": "QsLerdgm1BewEDSw27r8xN"
     },
     "type": "CODE"
    }
   },
   "outputs": [],
   "source": [
    "from tradeexecutor.backtest.grid_search import GridCombination, get_grid_search_result_path, perform_grid_search, prepare_grid_combinations\n",
    "\n",
    "# This is the path where we keep the result files around\n",
    "storage_folder = get_grid_search_result_path(Parameters.id)\n",
    "\n",
    "# Popular grid search combinations and indicators for them\n",
    "combinations = prepare_grid_combinations(\n",
    "    parameters,\n",
    "    storage_folder,\n",
    "    create_indicators=create_indicators,\n",
    "    strategy_universe=strategy_universe,\n",
    ")\n",
    "\n",
    "indicators = GridCombination.get_all_indicators(combinations)\n",
    "\n",
    "print(f\"We prepared {len(combinations)} grid search combinations with total {len(indicators)} indicators which need to be calculated, stored in {storage_folder.resolve()}\")\n",
    "\n",
    "try:\n",
    "    grid_search_results = perform_grid_search(\n",
    "        decide_trades,\n",
    "        strategy_universe,\n",
    "        combinations,\n",
    "        trading_strategy_engine_version=\"0.5\",\n",
    "        multiprocess=True,\n",
    "    )\n",
    "except Exception as e:\n",
    "    print(e)\n",
    "    print(e.__cause__)"
   ]
  },
  {
   "attachments": {},
   "cell_type": "markdown",
   "metadata": {
    "datalore": {
     "hide_input_from_viewers": false,
     "hide_output_from_viewers": false,
     "node_id": "UlUZd1GHCbxR1Vmnou7Xiu",
     "report_properties": {
      "rowId": "ntsy5GP64YqNDEwhlDsFE8"
     },
     "type": "MD"
    }
   },
   "source": [
    "# Search results"
   ]
  },
  {
   "cell_type": "code",
   "execution_count": null,
   "metadata": {
    "datalore": {
     "hide_input_from_viewers": false,
     "hide_output_from_viewers": false,
     "node_id": "0wsC6y6KBbByXzkrGKGfkk",
     "report_properties": {
      "rowId": "IflqR19k4HaFed7RszJcnO"
     },
     "type": "CODE"
    }
   },
   "outputs": [],
   "source": [
    "# Set Jupyter Notebook output mode parameters\n",
    "from tradeexecutor.analysis.grid_search import find_best_grid_search_results\n",
    "# from tradeexecutor.analysis.grid_search import visualise_table\n",
    "\n",
    "# Print extension of our backtest\n",
    "cached_results = [r for r in grid_search_results if r.cached]\n",
    "print(f\"Grid search results available: {len(grid_search_results)}, of which we got cached {len(cached_results)} in {storage_folder}\")\n"
   ]
  },
  {
   "attachments": {},
   "cell_type": "markdown",
   "metadata": {
    "datalore": {
     "hide_input_from_viewers": false,
     "hide_output_from_viewers": false,
     "node_id": "7yZWhDY14SJtp18eND51xW",
     "report_properties": {
      "rowId": "0rn4rfhdci2341DWMH7gEM"
     },
     "type": "MD"
    }
   },
   "source": [
    "## All results\n",
    "\n",
    "- Show all results in a single table"
   ]
  },
  {
   "cell_type": "code",
   "execution_count": null,
   "metadata": {
    "datalore": {
     "hide_input_from_viewers": false,
     "hide_output_from_viewers": false,
     "node_id": "Ujdubj0iCgOWO24vPITKKx",
     "report_properties": {
      "rowId": "YQ5saaOCYK3gpI0HetQjSl"
     },
     "type": "CODE"
    }
   },
   "outputs": [],
   "source": [
    "from tradeexecutor.analysis.grid_search import analyse_grid_search_result\n",
    "from tradeexecutor.analysis.grid_search import render_grid_search_result_table\n",
    "\n",
    "df = analyse_grid_search_result(grid_search_results)\n",
    "print(f\"We have {len(df)} results\")\n",
    "\n",
    "if len(df) < 100:\n",
    "    render_grid_search_result_table(df)\n",
    "else:\n",
    "    print(\"Too many grid search results to render in a single table\")"
   ]
  },
  {
   "attachments": {},
   "cell_type": "markdown",
   "metadata": {
    "datalore": {
     "hide_input_from_viewers": false,
     "hide_output_from_viewers": false,
     "node_id": "R5FOoKgLAmDpAMiSaN2z2j",
     "report_properties": {
      "rowId": "Keugs1tzxtILAp4zyLMQMM"
     },
     "type": "MD"
    }
   },
   "source": [
    "## Highest profitability (CAGR)\n",
    "\n",
    "- List of strategy parameter candidates\n",
    "- From all grid search results, sorted by CAGR (profitability)"
   ]
  },
  {
   "cell_type": "code",
   "execution_count": null,
   "metadata": {
    "datalore": {
     "hide_input_from_viewers": false,
     "hide_output_from_viewers": false,
     "node_id": "G3JnB7Lydf3udjk62sjc2O",
     "report_properties": {
      "rowId": "LpwNbLGpecBrBBBNVlQ4gU"
     },
     "type": "CODE"
    }
   },
   "outputs": [],
   "source": [
    "from tradeexecutor.analysis.grid_search import find_best_grid_search_results, render_grid_search_result_table\n",
    "\n",
    "best_results = find_best_grid_search_results(grid_search_results)\n",
    "render_grid_search_result_table(best_results.cagr)"
   ]
  },
  {
   "attachments": {},
   "cell_type": "markdown",
   "metadata": {
    "datalore": {
     "hide_input_from_viewers": true,
     "hide_output_from_viewers": true,
     "node_id": "D1eO7nz7tFiqZVcQZEEs3X",
     "type": "MD"
    }
   },
   "source": [
    "The CARG optimised best candidate equity curve."
   ]
  },
  {
   "cell_type": "code",
   "execution_count": null,
   "metadata": {
    "datalore": {
     "hide_input_from_viewers": true,
     "hide_output_from_viewers": true,
     "node_id": "qlhRm6MEjXdz1uivfVjyNJ",
     "type": "CODE"
    }
   },
   "outputs": [],
   "source": [
    "from tradeexecutor.visual.grid_search import visualise_single_grid_search_result_benchmark\n",
    "\n",
    "fig = visualise_single_grid_search_result_benchmark(\n",
    "    best_results.cagr[0], \n",
    "    strategy_universe, \n",
    "    initial_cash=Parameters.initial_cash\n",
    ")\n",
    "fig.show()"
   ]
  },
  {
   "attachments": {},
   "cell_type": "markdown",
   "metadata": {
    "datalore": {
     "hide_input_from_viewers": false,
     "hide_output_from_viewers": false,
     "node_id": "EdIc6Vizhib0b10upQnBu9",
     "report_properties": {
      "rowId": "lrdFlEayFCnXx6B1AOWlbA"
     },
     "type": "MD"
    }
   },
   "source": [
    "## Highest Sharpe\n",
    "\n",
    "- List of strategy parameter candidates\n",
    "- From all grid search results, sorted by Sharpe (risk-adjusted profit)"
   ]
  },
  {
   "cell_type": "code",
   "execution_count": null,
   "metadata": {
    "datalore": {
     "hide_input_from_viewers": false,
     "hide_output_from_viewers": false,
     "node_id": "FWaUftW9gzz7UpeLGauPAN",
     "report_properties": {
      "rowId": "NHGrkA3bNqJPNSkZXVfms2"
     },
     "type": "CODE"
    }
   },
   "outputs": [],
   "source": [
    "render_grid_search_result_table(best_results.sharpe)"
   ]
  },
  {
   "attachments": {},
   "cell_type": "markdown",
   "metadata": {
    "datalore": {
     "hide_input_from_viewers": true,
     "hide_output_from_viewers": true,
     "node_id": "IwPkpnPQPUscYDuxGn36Tf",
     "type": "MD"
    }
   },
   "source": [
    "The optimised Sharpe result equity curve"
   ]
  },
  {
   "cell_type": "code",
   "execution_count": null,
   "metadata": {
    "datalore": {
     "hide_input_from_viewers": true,
     "hide_output_from_viewers": true,
     "node_id": "DcBSkVQbGI0jJabixJ1u2F",
     "type": "CODE"
    }
   },
   "outputs": [],
   "source": [
    "fig = visualise_single_grid_search_result_benchmark(\n",
    "    best_results.sharpe[0], \n",
    "    strategy_universe, \n",
    "    initial_cash=Parameters.initial_cash\n",
    ")\n",
    "fig.show()"
   ]
  }
 ],
 "metadata": {
  "datalore": {
   "base_environment": "minimal",
   "computation_mode": "JUPYTER",
   "package_manager": "pip",
   "packages": [],
   "report_row_ids": [
    "npZfngBFkbIhSxvNeadJZI",
    "GhBdJR6iUxIZhDlvvRsN18",
    "V2T5Idfo0Tk9aisRtF7Af2",
    "WItNHQ475UrsetUXMySpKk",
    "BZCjj9rsbMkOtUNxQABZqM",
    "pzu96l849A9iTjPD5LNmsB",
    "cnpBGMpGdL5upK4ctlIsLa",
    "6ikbbnKFBBUDJCVsUzyV9n",
    "VS64KnzrQlPw3yr2xVCV1c",
    "BAQOouL7P2Hr9AHYBFMN26",
    "hIzpVeTriqUhLmoR7YkfiJ",
    "npa7iThuHClHekXptxnKy3",
    "QsLerdgm1BewEDSw27r8xN",
    "ntsy5GP64YqNDEwhlDsFE8",
    "IflqR19k4HaFed7RszJcnO",
    "0rn4rfhdci2341DWMH7gEM",
    "YQ5saaOCYK3gpI0HetQjSl",
    "Keugs1tzxtILAp4zyLMQMM",
    "LpwNbLGpecBrBBBNVlQ4gU",
    "lrdFlEayFCnXx6B1AOWlbA",
    "NHGrkA3bNqJPNSkZXVfms2",
    "4uVfQJMzOVLfmmj6728JBq",
    "PeoEJb1HWMKtI1ScEm5cop"
   ],
   "version": 3
  },
  "kernelspec": {
   "display_name": "trading-strategy-getting-started-tleFFziV-py3.11",
   "language": "python",
   "name": "python3"
  },
  "language_info": {
   "codemirror_mode": {
    "name": "ipython",
    "version": 3
   },
   "file_extension": ".py",
   "mimetype": "text/x-python",
   "name": "python",
   "nbconvert_exporter": "python",
   "pygments_lexer": "ipython3",
   "version": "3.11.5"
  }
 },
 "nbformat": 4,
 "nbformat_minor": 4
}
