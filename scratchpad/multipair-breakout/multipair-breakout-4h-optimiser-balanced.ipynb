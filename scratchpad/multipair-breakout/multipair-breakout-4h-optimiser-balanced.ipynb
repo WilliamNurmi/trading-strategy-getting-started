{
 "cells": [
  {
   "attachments": {},
   "cell_type": "markdown",
   "metadata": {
    "datalore": {
     "hide_input_from_viewers": false,
     "hide_output_from_viewers": false,
     "node_id": "panDlc8PLIp2vAeYv33D8v",
     "report_properties": {
      "rowId": "npZfngBFkbIhSxvNeadJZI"
     },
     "type": "MD"
    }
   },
   "source": [
    "# Multipair breakout optimiser\n",
    "\n",
    "- Hunt 4h breakouts\n",
    "- Indicator dependency resolution"
   ]
  },
  {
   "attachments": {},
   "cell_type": "markdown",
   "metadata": {
    "datalore": {
     "hide_input_from_viewers": false,
     "hide_output_from_viewers": false,
     "node_id": "H3G8lwcUMn3QLXcgvhP8h3",
     "report_properties": {
      "rowId": "GhBdJR6iUxIZhDlvvRsN18"
     },
     "type": "MD"
    }
   },
   "source": [
    "# Set up\n",
    "\n",
    "Set up Trading Strategy data client."
   ]
  },
  {
   "cell_type": "code",
   "execution_count": null,
   "metadata": {
    "datalore": {
     "hide_input_from_viewers": false,
     "hide_output_from_viewers": false,
     "node_id": "GltDL2UHt3axP6z6g6R5pj",
     "report_properties": {
      "rowId": "V2T5Idfo0Tk9aisRtF7Af2"
     },
     "type": "CODE"
    }
   },
   "outputs": [],
   "source": [
    "from tradeexecutor.utils.notebook import setup_charting_and_output\n",
    "from tradingstrategy.client import Client\n",
    "from tradeexecutor.utils.notebook import setup_charting_and_output, OutputMode\n",
    "\n",
    "client = Client.create_jupyter_client()\n",
    "\n",
    "# Set up drawing charts in interactive vector output mode.\n",
    "# This is slower. See the alternative commented option below.\n",
    "# setup_charting_and_output(OutputMode.interactive)\n",
    "\n",
    "# Set up rendering static PNG images.\n",
    "# This is much faster but disables zoom on any chart.\n",
    "setup_charting_and_output(OutputMode.static, image_format=\"png\", width=1500, height=1000)"
   ]
  },
  {
   "attachments": {},
   "cell_type": "markdown",
   "metadata": {
    "datalore": {
     "hide_input_from_viewers": false,
     "hide_output_from_viewers": false,
     "node_id": "oOT2VS4jGPhAAQy0PVsXzl",
     "report_properties": {
      "rowId": "WItNHQ475UrsetUXMySpKk"
     },
     "type": "MD"
    }
   },
   "source": [
    "# Parameters\n",
    "\n",
    "- Strategy parameters define the fixed and grid searched parameters"
   ]
  },
  {
   "cell_type": "code",
   "execution_count": null,
   "metadata": {
    "datalore": {
     "hide_input_from_viewers": false,
     "hide_output_from_viewers": false,
     "node_id": "Cr5bOuqvH7PynnMMCrHCVX",
     "report_properties": {
      "rowId": "BZCjj9rsbMkOtUNxQABZqM"
     },
     "type": "CODE"
    }
   },
   "outputs": [],
   "source": [
    "from tradingstrategy.chain import ChainId\n",
    "import datetime\n",
    "\n",
    "from skopt.space import Integer, Real, Categorical\n",
    "\n",
    "from tradeexecutor.strategy.default_routing_options import TradeRouting\n",
    "from tradingstrategy.timebucket import TimeBucket\n",
    "from tradeexecutor.strategy.cycle import CycleDuration\n",
    "from tradeexecutor.strategy.parameters import StrategyParameters\n",
    "\n",
    "\n",
    "class Parameters:\n",
    "    \"\"\"Parameteres for this strategy.\n",
    "\n",
    "    - Collect parameters used for this strategy here\n",
    "\n",
    "    - Both live trading and backtesting parameters\n",
    "    \"\"\"\n",
    "\n",
    "    id = \"multipair-breakout-4h-optimiser-large\" # Used in cache paths\n",
    "\n",
    "    cycle_duration = CycleDuration.cycle_1h \n",
    "    candle_time_bucket = TimeBucket.h1\n",
    "    allocation = 0.98   \n",
    "\n",
    "    atr_length = Integer(10, 90)   # Bars\n",
    "    fract = Real(0.2, 7)\n",
    "\n",
    "    # Obtained in regime filter optimiser notebook series\n",
    "    adx_length = 60\n",
    "    adx_filter_threshold = 4.8\n",
    "    \n",
    "    trailing_stop_loss_pct = Real(0.95, 0.99)\n",
    "    trailing_stop_loss_activation_level = Real(1.00, 1.08)\n",
    "    stop_loss_pct = Real(0.95, 0.99)\n",
    "\n",
    "    #\n",
    "    # Live trading only\n",
    "    #\n",
    "    chain_id = ChainId.polygon\n",
    "    routing = TradeRouting.default  # Pick default routes for trade execution\n",
    "    required_history_period = datetime.timedelta(hours=200)\n",
    "\n",
    "    #\n",
    "    # Backtesting only\n",
    "    #\n",
    "    backtest_start = datetime.datetime(2018, 1, 1)\n",
    "    backtest_end = datetime.datetime(2024, 6, 1)\n",
    "    stop_loss_time_bucket = TimeBucket.m15\n",
    "    backtest_trading_fee = 0.0005  # Override the default Binance data trading fee and assume we can trade 5 BPS fee on WMATIC-USDC on Polygon on Uniswap v3\n",
    "    initial_cash = 10_000\n",
    "\n",
    "parameters = StrategyParameters.from_class(Parameters, grid_search=True) \n"
   ]
  },
  {
   "attachments": {},
   "cell_type": "markdown",
   "metadata": {
    "datalore": {
     "hide_input_from_viewers": false,
     "hide_output_from_viewers": false,
     "node_id": "Pzshdg0D4wgjCLMAtRXa1R",
     "report_properties": {
      "rowId": "pzu96l849A9iTjPD5LNmsB"
     },
     "type": "MD"
    }
   },
   "source": [
    "# Trading pairs and market data\n",
    "\n",
    "- Set up our trading pairs\n",
    "- Load historical market data for backtesting\n",
    "- We use Binance CEX data so we have longer history to backtest"
   ]
  },
  {
   "cell_type": "code",
   "execution_count": null,
   "metadata": {
    "datalore": {
     "hide_input_from_viewers": false,
     "hide_output_from_viewers": false,
     "node_id": "WcYbF5brciuKTbrEY8PsCN",
     "report_properties": {
      "rowId": "cnpBGMpGdL5upK4ctlIsLa"
     },
     "type": "CODE"
    }
   },
   "outputs": [],
   "source": [
    "from tradeexecutor.strategy.trading_strategy_universe import TradingStrategyUniverse, load_partial_data\n",
    "from tradingstrategy.client import Client\n",
    "from tradeexecutor.strategy.execution_context import ExecutionContext, notebook_execution_context\n",
    "from tradeexecutor.utils.binance import create_binance_universe\n",
    "from tradeexecutor.strategy.universe_model import UniverseOptions\n",
    "\n",
    "# List of trading pairs we use in the backtest\n",
    "# In this backtest, we use Binance data as it has more price history than DEXes\n",
    "trading_pairs = [\n",
    "    (ChainId.centralised_exchange, \"binance\", \"BTC\", \"USDT\"),\n",
    "    (ChainId.centralised_exchange, \"binance\", \"ETH\", \"USDT\"),\n",
    "    (ChainId.centralised_exchange, \"binance\", \"MATIC\", \"USDT\"),\n",
    "    (ChainId.centralised_exchange, \"binance\", \"LINK\", \"USDT\"),\n",
    "    (ChainId.centralised_exchange, \"binance\", \"PEPE\", \"USDT\"),\n",
    "    (ChainId.centralised_exchange, \"binance\", \"BNB\", \"USDT\"),\n",
    "]\n",
    "\n",
    "def create_trading_universe(\n",
    "    timestamp: datetime.datetime,\n",
    "    client: Client,\n",
    "    execution_context: ExecutionContext,\n",
    "    universe_options: UniverseOptions,\n",
    ") -> TradingStrategyUniverse:\n",
    "    \"\"\"Create the trading universe.\n",
    "\n",
    "    - For live trading, we load DEX data\n",
    "\n",
    "    - We backtest with Binance data, as it has more history\n",
    "    \"\"\"\n",
    "\n",
    "    # Backtesting - load Binance data\n",
    "    strategy_universe = create_binance_universe(\n",
    "        [f\"{p[2]}{p[3]}\" for p in trading_pairs],\n",
    "        candle_time_bucket=Parameters.candle_time_bucket,\n",
    "        stop_loss_time_bucket=Parameters.stop_loss_time_bucket,\n",
    "        start_at=universe_options.start_at,\n",
    "        end_at=universe_options.end_at,\n",
    "        trading_fee_override=Parameters.backtest_trading_fee,\n",
    "        forward_fill=True,\n",
    "    )\n",
    "    return strategy_universe\n",
    "\n",
    "\n",
    "strategy_universe = create_trading_universe(\n",
    "    None,\n",
    "    client,\n",
    "    notebook_execution_context,\n",
    "    UniverseOptions.from_strategy_parameters_class(Parameters, notebook_execution_context)\n",
    ")"
   ]
  },
  {
   "attachments": {},
   "cell_type": "markdown",
   "metadata": {
    "datalore": {
     "hide_input_from_viewers": false,
     "hide_output_from_viewers": false,
     "node_id": "e6zBU79advuTIAFp3r0fnS",
     "report_properties": {
      "rowId": "6ikbbnKFBBUDJCVsUzyV9n"
     },
     "type": "MD"
    }
   },
   "source": [
    "# Indicators\n",
    "\n",
    "- We use `pandas_ta` Python package to calculate technical indicators\n",
    "- These indicators are precalculated and cached on the disk\n",
    "- Indicators are calculated to each pair in our trading pair dataset"
   ]
  },
  {
   "cell_type": "code",
   "execution_count": null,
   "metadata": {
    "datalore": {
     "hide_input_from_viewers": false,
     "hide_output_from_viewers": false,
     "node_id": "Ol2f6NAwTJA3Di7TpMaqlq",
     "report_properties": {
      "rowId": "VS64KnzrQlPw3yr2xVCV1c"
     },
     "type": "CODE"
    }
   },
   "outputs": [],
   "source": [
    "from tradeexecutor.state.identifier import TradingPairIdentifier\n",
    "import pandas as pd\n",
    "import pandas_ta\n",
    "\n",
    "from tradeexecutor.analysis.regime import Regime\n",
    "from tradeexecutor.strategy.execution_context import ExecutionContext\n",
    "from tradeexecutor.strategy.pandas_trader.indicator import IndicatorSet, IndicatorSource, IndicatorDependencyResolver\n",
    "from tradeexecutor.strategy.parameters import StrategyParameters\n",
    "from tradeexecutor.strategy.trading_strategy_universe import TradingStrategyUniverse\n",
    "from tradingstrategy.utils.groupeduniverse import resample_candles\n",
    "\n",
    "\n",
    "def regime(\n",
    "    close: pd.Series,\n",
    "    adx_length: int,\n",
    "    regime_threshold: float,\n",
    "    pair: TradingPairIdentifier,\n",
    "    dependency_resolver: IndicatorDependencyResolver,\n",
    ") -> pd.Series:\n",
    "    \"\"\"A regime filter based on ADX indicator.\n",
    "\n",
    "    Get the trend of BTC applying ADX on a daily frame.\n",
    "    \n",
    "    - -1 is bear\n",
    "    - 0 is sideways\n",
    "    - +1 is bull\n",
    "    \"\"\"\n",
    "    adx_df = dependency_resolver.get_indicator_data(\n",
    "        \"adx\",\n",
    "        pair=pair,\n",
    "        parameters={\"length\": adx_length},\n",
    "        column=\"all\",\n",
    "    )\n",
    "\n",
    "    adx_df = adx_df.shift(1)  # Look ahead bias trick\n",
    "\n",
    "    # def regime_filter(row):\n",
    "    #     # ADX, DMP, # DMN\n",
    "    #     average_direction_index, directional_momentum_positive, directional_momentum_negative = row.values\n",
    "    #     if directional_momentum_positive > regime_threshold:\n",
    "    #         return Regime.bull.value\n",
    "    #     elif directional_momentum_negative > regime_threshold:\n",
    "    #         return Regime.bear.value\n",
    "    #     else:\n",
    "    #         return Regime.crab.value\n",
    "    # regime_signal = adx_df.apply(regime_filter, axis=\"columns\")    \n",
    "    # return regime_signal\n",
    "\n",
    "    def regime_filter(row):\n",
    "        # ADX, DMP, # DMN\n",
    "        average_direction_index, directional_momentum_positive, directional_momentum_negative = row.values\n",
    "        if average_direction_index > regime_threshold:\n",
    "            if directional_momentum_positive > directional_momentum_negative:\n",
    "                return Regime.bull.value\n",
    "            else:\n",
    "                return Regime.bear.value\n",
    "        else:\n",
    "            return Regime.crab.value\n",
    "    regime_signal = adx_df.apply(regime_filter, axis=\"columns\")    \n",
    "    return regime_signal\n",
    "\n",
    "\n",
    "def create_indicators(\n",
    "    timestamp: datetime.datetime | None,\n",
    "    parameters: StrategyParameters,\n",
    "    strategy_universe: TradingStrategyUniverse,\n",
    "    execution_context: ExecutionContext\n",
    "):\n",
    "    indicators = IndicatorSet()\n",
    "\n",
    "    indicators.add(\n",
    "        \"atr\",\n",
    "        pandas_ta.atr,\n",
    "        {\"length\": parameters.atr_length},\n",
    "        IndicatorSource.ohlcv,\n",
    "    )    \n",
    "\n",
    "    indicators.add(\n",
    "        \"adx\",\n",
    "        pandas_ta.adx,\n",
    "        {\"length\": parameters.adx_length},\n",
    "        IndicatorSource.ohlcv,\n",
    "        order=2,\n",
    "    )\n",
    "\n",
    "    # A regime filter to detect the trading pair bear/bull markets\n",
    "    indicators.add(\n",
    "        \"regime\",\n",
    "        regime,\n",
    "        {\"adx_length\": parameters.adx_length, \"regime_threshold\": parameters.adx_filter_threshold},\n",
    "        IndicatorSource.close_price,\n",
    "        order=3.\n",
    "    )\n",
    "        \n",
    "    return indicators\n"
   ]
  },
  {
   "attachments": {},
   "cell_type": "markdown",
   "metadata": {
    "datalore": {
     "hide_input_from_viewers": false,
     "hide_output_from_viewers": false,
     "node_id": "Lf3kq2cXNItTzSbm9MuJOk",
     "report_properties": {
      "rowId": "BAQOouL7P2Hr9AHYBFMN26"
     },
     "type": "MD"
    }
   },
   "source": [
    "# Trading algorithm\n",
    "\n",
    "- Describe out trading strategy as code"
   ]
  },
  {
   "cell_type": "code",
   "execution_count": null,
   "metadata": {
    "datalore": {
     "hide_input_from_viewers": false,
     "hide_output_from_viewers": false,
     "node_id": "3JI3mVfrtr5aFd5RukEvTm",
     "report_properties": {
      "rowId": "hIzpVeTriqUhLmoR7YkfiJ"
     },
     "type": "CODE"
    }
   },
   "outputs": [],
   "source": [
    "from tradeexecutor.state.visualisation import PlotKind\n",
    "from tradeexecutor.state.trade import TradeExecution\n",
    "from tradeexecutor.strategy.pandas_trader.strategy_input import StrategyInput\n",
    "\n",
    "\n",
    "def decide_trades(\n",
    "    input: StrategyInput,\n",
    ") -> list[TradeExecution]:\n",
    "\n",
    "    # \n",
    "    # Decidion cycle setup.\n",
    "    # Read all variables we are going to use for the decisions.\n",
    "    #\n",
    "    parameters = input.parameters\n",
    "    position_manager = input.get_position_manager()\n",
    "    state = input.state\n",
    "    timestamp = input.timestamp\n",
    "    indicators = input.indicators\n",
    "    strategy_universe = input.strategy_universe\n",
    "    cash = position_manager.get_current_cash()\n",
    "\n",
    "    trades = []\n",
    "\n",
    "    # Enable trailing stop loss after we reach the profit taking level\n",
    "    #\n",
    "    for position in state.portfolio.open_positions.values():\n",
    "        if position.trailing_stop_loss_pct is None:\n",
    "            close_price = indicators.get_price(pair=position.pair)\n",
    "            if close_price >= position.get_opening_price() * parameters.trailing_stop_loss_activation_level:\n",
    "                position.trailing_stop_loss_pct = parameters.trailing_stop_loss_pct                \n",
    "\n",
    "    # Trade each of our pair individually.\n",
    "    #\n",
    "    # If any pair has open position,\n",
    "    # do not try to rebalance, but hold that position to the end.\n",
    "    #\n",
    "    for pair_desc in trading_pairs:\n",
    "        pair = strategy_universe.get_pair_by_human_description(pair_desc)\n",
    "\n",
    "        close_price = indicators.get_price(pair=pair)  # Price the previous 15m candle closed for this decision cycle timestamp\n",
    "        atr = indicators.get_indicator_value(\"atr\", pair=pair)  # The ATR value at the time of close price\n",
    "        # last_hour = (timestamp - parameters.cycle_duration.to_pandas_timedelta()).floor(freq=\"H\")  # POI (point of interest): Account 15m of lookahead bias whehn using decision cycle timestamp\n",
    "        last_hour = (timestamp - parameters.cycle_duration.to_pandas_timedelta()).floor(freq=\"4H\")  # POI (point of interest): Account 15m of lookahead bias whehn using decision cycle timestamp\n",
    "        previous_price = indicators.get_price(pair=pair, timestamp=last_hour)  # The price at the start of the breakout period\n",
    "        regime_val = indicators.get_indicator_value(\"regime\", pair=pair, data_delay_tolerance=pd.Timedelta(hours=24))  # Because the regime filter is calculated only daily, we allow some lookback\n",
    "    \n",
    "        if None in (atr, close_price, previous_price):\n",
    "            # Not enough historic data,\n",
    "            # cannot make decisions yet\n",
    "            continue\n",
    "        \n",
    "        # If regime filter does not have enough data at the start of the backtest,\n",
    "        # default to bull market\n",
    "        regime = Regime(regime_val)  # Convert to enum for readability\n",
    "                \n",
    "        # We assume a breakout if our current 15m candle has closed\n",
    "        # above the 1h starting price + (atr * fraction) target level\n",
    "        long_breakout_entry_level = previous_price + atr * parameters.fract\n",
    "\n",
    "        # Check for open condition - is the price breaking out\n",
    "        #\n",
    "        if not position_manager.is_any_open():\n",
    "            if regime == Regime.bull:  \n",
    "                if close_price > long_breakout_entry_level:\n",
    "                    trades += position_manager.open_spot(\n",
    "                        pair,\n",
    "                        value=cash * parameters.allocation,\n",
    "                        stop_loss_pct=parameters.stop_loss_pct,             \n",
    "                    )\n",
    "\n",
    "    # Visualisations\n",
    "    #\n",
    "    if input.is_visualisation_enabled():\n",
    "        visualisation = state.visualisation\n",
    "        # Visualise ATR for BTC        \n",
    "        pair = strategy_universe.get_pair_by_human_description(trading_pairs[0])\n",
    "        visualisation.plot_indicator(\n",
    "            timestamp, \n",
    "            \"ATR\", \n",
    "            PlotKind.technical_indicator_detached, \n",
    "            atr,\n",
    "            pair=pair,\n",
    "        )\n",
    "\n",
    "    return trades  # Return the list of trades we made in this cycle"
   ]
  },
  {
   "cell_type": "markdown",
   "metadata": {},
   "source": [
    "# Optimise\n",
    "\n",
    "- Run the optimiser\n",
    "- `iterations` will tell you how many optimisation rounds are performed\n",
    "    - Start with a small value like 6 to see your code runs well and then increase to get more refined results\n",
    "    - Inspect the resulting parameters to see if you are hitting the boundaries of your search space and you need to expand the range of searched parameters\n",
    "    - If it looks like adding iterations won't find better results then you have likely find the global optimum\n",
    "    - Each iteration will make the optimisation run linearly longer\n",
    "    - Each iteration sends a batch of Gaussian Proces points for the child process fleet to crunch, equal to the number of GPU - so the amount of results will iterations * CPUs \n",
    "- Optimise for max CAGR (do not care about the risk)\n",
    "    - Alternative you could optimise for Sharpe, or any custom \n",
    "- Optimiser will automatically use most available CPUs on your computer\n",
    "- Optimiser has a timeout to detect hung/broken backtests that take forever to complete, see `perform_optimisation(timeout)` argument\n",
    "    - The default timeout for a single backtest is 10 minutes\n",
    "- `perform_optimisation(result_filter)` argument is set to filter out strategies that take only small number of trades - they are likely statistical flukes and pollute genuine results "
   ]
  },
  {
   "cell_type": "code",
   "execution_count": null,
   "metadata": {},
   "outputs": [],
   "source": [
    "import logging\n",
    "from tradeexecutor.backtest.optimiser import perform_optimisation\n",
    "from tradeexecutor.backtest.optimiser import prepare_optimiser_parameters\n",
    "from tradeexecutor.backtest.optimiser import optimise_profit, optimise_sharpe\n",
    "from tradeexecutor.backtest.optimiser import MinTradeCountFilter\n",
    "\n",
    "# How many Gaussian Process iterations we do\n",
    "iterations = 8\n",
    "\n",
    "optimised_results = perform_optimisation(\n",
    "    iterations=iterations,\n",
    "    search_func=optimise_sharpe,\n",
    "    decide_trades=decide_trades,\n",
    "    strategy_universe=strategy_universe,\n",
    "    parameters=prepare_optimiser_parameters(Parameters),  # Handle scikit-optimise search space\n",
    "    create_indicators=create_indicators,\n",
    "    result_filter=MinTradeCountFilter(150),\n",
    "    timeout=20*60,    \n",
    "    # Uncomment for diagnostics\n",
    "    # log_level=logging.INFO,\n",
    "    # max_workers=1,\n",
    ")\n",
    "\n",
    "print(f\"Optimise completed, optimiser searched {optimised_results.get_combination_count()} combinations\")"
   ]
  },
  {
   "cell_type": "markdown",
   "metadata": {},
   "source": [
    "## Results\n",
    "\n",
    "- Show the top results of all optimiser iterations in a single table"
   ]
  },
  {
   "cell_type": "code",
   "execution_count": null,
   "metadata": {},
   "outputs": [],
   "source": [
    "from tradeexecutor.analysis.grid_search import analyse_grid_search_result\n",
    "from tradeexecutor.analysis.grid_search import render_grid_search_result_table\n",
    "\n",
    "#: How many results we analyse from the top \n",
    "cut_off = 100\n",
    "\n",
    "all_combinations = optimised_results.get_results_as_grid_search_results() \n",
    "\n",
    "# Optimiser already filtered for min_positions_threshold when doing the optimiser run\n",
    "df = analyse_grid_search_result(all_combinations[0:cut_off], min_positions_threshold=0)\n",
    "print(f\"Showing the best {len(df)} results\")\n",
    "\n",
    "render_grid_search_result_table(df)\n"
   ]
  },
  {
   "cell_type": "markdown",
   "metadata": {},
   "source": [
    "Render the candidate with the best equity curve."
   ]
  },
  {
   "cell_type": "code",
   "execution_count": null,
   "metadata": {},
   "outputs": [],
   "source": [
    "from tradeexecutor.visual.grid_search import visualise_single_grid_search_result_benchmark\n",
    "\n",
    "fig = visualise_single_grid_search_result_benchmark(\n",
    "    all_combinations[0], \n",
    "    strategy_universe, \n",
    "    initial_cash=Parameters.initial_cash\n",
    ")\n",
    "fig.show()"
   ]
  },
  {
   "cell_type": "markdown",
   "metadata": {},
   "source": [
    "# Portfolio performance (best pick)\n",
    "\n",
    "- Compare buy and hold against our best performance"
   ]
  },
  {
   "cell_type": "code",
   "execution_count": null,
   "metadata": {},
   "outputs": [],
   "source": [
    "from tradeexecutor.analysis.multi_asset_benchmark import compare_strategy_backtest_to_multiple_assets\n",
    "\n",
    "returns = all_combinations[0].returns\n",
    "\n",
    "compare_strategy_backtest_to_multiple_assets(\n",
    "    state=None,\n",
    "    strategy_universe=strategy_universe,\n",
    "    returns=returns,\n",
    "    display=True,\n",
    ")"
   ]
  },
  {
   "cell_type": "markdown",
   "metadata": {},
   "source": [
    "# Trade summary (best pick)\n",
    "\n",
    "- Show statistics about the made trades"
   ]
  },
  {
   "cell_type": "code",
   "execution_count": null,
   "metadata": {},
   "outputs": [],
   "source": [
    "summary = all_combinations[0].summary\n",
    "display(summary.to_dataframe())"
   ]
  },
  {
   "cell_type": "markdown",
   "metadata": {},
   "source": [
    "# Trading pair performance breakdown\n",
    "\n",
    "- Show breakdown of different pairs on the best result"
   ]
  },
  {
   "cell_type": "code",
   "execution_count": null,
   "metadata": {},
   "outputs": [],
   "source": [
    "from tradeexecutor.analysis.multipair import analyse_multipair\n",
    "from tradeexecutor.analysis.multipair import format_multipair_summary\n",
    "\n",
    "state = all_combinations[0].hydrate_state()\n",
    "\n",
    "multipair_summary = analyse_multipair(state)\n",
    "display(format_multipair_summary(multipair_summary))"
   ]
  }
 ],
 "metadata": {
  "datalore": {
   "base_environment": "minimal",
   "computation_mode": "JUPYTER",
   "package_manager": "pip",
   "packages": [],
   "report_row_ids": [
    "npZfngBFkbIhSxvNeadJZI",
    "GhBdJR6iUxIZhDlvvRsN18",
    "V2T5Idfo0Tk9aisRtF7Af2",
    "WItNHQ475UrsetUXMySpKk",
    "BZCjj9rsbMkOtUNxQABZqM",
    "pzu96l849A9iTjPD5LNmsB",
    "cnpBGMpGdL5upK4ctlIsLa",
    "6ikbbnKFBBUDJCVsUzyV9n",
    "VS64KnzrQlPw3yr2xVCV1c",
    "BAQOouL7P2Hr9AHYBFMN26",
    "hIzpVeTriqUhLmoR7YkfiJ",
    "npa7iThuHClHekXptxnKy3",
    "QsLerdgm1BewEDSw27r8xN",
    "ntsy5GP64YqNDEwhlDsFE8",
    "IflqR19k4HaFed7RszJcnO",
    "0rn4rfhdci2341DWMH7gEM",
    "YQ5saaOCYK3gpI0HetQjSl",
    "Keugs1tzxtILAp4zyLMQMM",
    "LpwNbLGpecBrBBBNVlQ4gU",
    "lrdFlEayFCnXx6B1AOWlbA",
    "NHGrkA3bNqJPNSkZXVfms2",
    "4uVfQJMzOVLfmmj6728JBq",
    "PeoEJb1HWMKtI1ScEm5cop"
   ],
   "version": 3
  },
  "kernelspec": {
   "display_name": "trading-strategy-getting-started-tleFFziV-py3.11",
   "language": "python",
   "name": "python3"
  },
  "language_info": {
   "codemirror_mode": {
    "name": "ipython",
    "version": 3
   },
   "file_extension": ".py",
   "mimetype": "text/x-python",
   "name": "python",
   "nbconvert_exporter": "python",
   "pygments_lexer": "ipython3",
   "version": "3.10.12"
  }
 },
 "nbformat": 4,
 "nbformat_minor": 4
}
